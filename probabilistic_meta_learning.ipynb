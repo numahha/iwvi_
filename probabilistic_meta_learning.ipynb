{
 "cells": [
  {
   "cell_type": "code",
   "execution_count": 1,
   "id": "bdec0e85",
   "metadata": {},
   "outputs": [
    {
     "name": "stdout",
     "output_type": "stream",
     "text": [
      "3 1\n"
     ]
    },
    {
     "name": "stderr",
     "output_type": "stream",
     "text": [
      "C:\\Users\\toru.hishinuma\\anaconda3\\envs\\note\\lib\\site-packages\\gym\\spaces\\box.py:84: UserWarning: \u001b[33mWARN: Box bound precision lowered by casting to float32\u001b[0m\n",
      "  logger.warn(f\"Box bound precision lowered by casting to {self.dtype}\")\n"
     ]
    }
   ],
   "source": [
    "import gym\n",
    "import custom_gym\n",
    "import numpy as np\n",
    "import torch\n",
    "\n",
    "env = gym.make('CustomPendulum-v0')\n",
    "s_dim = env.reset().shape[0]\n",
    "a_dim = env.action_space.sample().shape[0]\n",
    "print(s_dim,a_dim)"
   ]
  },
  {
   "cell_type": "code",
   "execution_count": 2,
   "id": "74a553b1",
   "metadata": {},
   "outputs": [
    {
     "name": "stdout",
     "output_type": "stream",
     "text": [
      "torch.Size([100, 200, 7])\n"
     ]
    }
   ],
   "source": [
    "offline_data = np.load('np_offline_data.npy')\n",
    "offline_data = torch.from_numpy(offline_data.astype(np.float32))[:,:,:-1]\n",
    "print(offline_data.shape)"
   ]
  },
  {
   "cell_type": "code",
   "execution_count": 3,
   "id": "aefacd1b",
   "metadata": {},
   "outputs": [],
   "source": [
    "def datapoint2sads(datapoint):\n",
    "    s = datapoint[: s_dim]\n",
    "    a = datapoint[s_dim : (s_dim+a_dim)]\n",
    "    #ds = datapoint[(s_dim+a_dim) : (2*s_dim+a_dim)] - s\n",
    "    ds = datapoint[(s_dim+a_dim) : (2*s_dim+a_dim)]\n",
    "    return s,a,ds\n",
    "\n"
   ]
  },
  {
   "cell_type": "code",
   "execution_count": 4,
   "id": "8811866b",
   "metadata": {},
   "outputs": [],
   "source": [
    "x_dim = s_dim+a_dim\n",
    "y_dim = s_dim\n",
    "z_dim = 1\n",
    "g_dim = 1\n",
    "#f_phi\n"
   ]
  },
  {
   "cell_type": "code",
   "execution_count": 5,
   "id": "6fb4d2cf",
   "metadata": {},
   "outputs": [],
   "source": [
    "from unweighted_vi import unweightedVI\n",
    "    \n",
    "vi = unweightedVI(s_dim, a_dim, z_dim, g_dim)\n",
    "\n",
    "optimizer = torch.optim.Adam(vi.parameters(),lr=0.001)\n",
    "\n",
    "for i in range(10):\n",
    "    m = np.random.randint(offline_data.shape[0])\n",
    "    optimizer.zero_grad()\n",
    "    loss = vi.loss(offline_data[m,:,:])\n",
    "    loss.backward()\n",
    "    optimizer.step()\n",
    "\n",
    "        #m = np.random.randint(offline_data.shape[0])\n",
    "        #z_mu_logvar = enc(offline_data[m,:,:-1])\n",
    "        \n",
    "\n"
   ]
  },
  {
   "cell_type": "code",
   "execution_count": null,
   "id": "bac32e3a",
   "metadata": {},
   "outputs": [],
   "source": []
  },
  {
   "cell_type": "code",
   "execution_count": null,
   "id": "ded006e9",
   "metadata": {},
   "outputs": [],
   "source": []
  }
 ],
 "metadata": {
  "kernelspec": {
   "display_name": "Python 3 (ipykernel)",
   "language": "python",
   "name": "python3"
  },
  "language_info": {
   "codemirror_mode": {
    "name": "ipython",
    "version": 3
   },
   "file_extension": ".py",
   "mimetype": "text/x-python",
   "name": "python",
   "nbconvert_exporter": "python",
   "pygments_lexer": "ipython3",
   "version": "3.7.0"
  }
 },
 "nbformat": 4,
 "nbformat_minor": 5
}
