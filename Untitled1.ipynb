{
 "cells": [
  {
   "cell_type": "code",
   "execution_count": 1,
   "id": "b3878c65",
   "metadata": {},
   "outputs": [],
   "source": [
    "import numpy as np\n",
    "import torch\n",
    "import matplotlib.pyplot as plt\n",
    "import gym\n",
    "import custom_gym"
   ]
  },
  {
   "cell_type": "code",
   "execution_count": 2,
   "id": "5322fcdf",
   "metadata": {},
   "outputs": [
    {
     "name": "stderr",
     "output_type": "stream",
     "text": [
      "C:\\Users\\toru.hishinuma\\anaconda3\\envs\\note\\lib\\site-packages\\gym\\spaces\\box.py:84: UserWarning: \u001b[33mWARN: Box bound precision lowered by casting to float32\u001b[0m\n",
      "  logger.warn(f\"Box bound precision lowered by casting to {self.dtype}\")\n"
     ]
    }
   ],
   "source": [
    "env = gym.make('CustomPendulum-v0')"
   ]
  },
  {
   "cell_type": "code",
   "execution_count": 3,
   "id": "322f684e",
   "metadata": {},
   "outputs": [],
   "source": [
    "def get_episodedata(env, gamma):\n",
    "\n",
    "    episodedata = []\n",
    "    ob = env.reset()\n",
    "    while True:\n",
    "        ac = env.action_space.sample()\n",
    "        nextob,rew,done,_ = env.step(ac)\n",
    "        episodedata.append(np.hstack([ob,ac,rew,nextob]))\n",
    "        ob = nextob.copy()\n",
    "        if done:\n",
    "            return None\n",
    "        if gamma<np.random.rand():\n",
    "            break\n",
    "    return np.array(episodedata), len(ob), len(ac)\n",
    "\n",
    "def preprocess_episodedata(episodedata, s_dim, a_dim):\n",
    "    sa = episodedata[:,:(s_dim+a_dim)]\n",
    "    ds = episodedata[:,:s_dim] - episodedata[:,-s_dim:]\n",
    "    return np.hstack([sa, ds])\n"
   ]
  },
  {
   "cell_type": "code",
   "execution_count": 4,
   "id": "a0afd0c7",
   "metadata": {},
   "outputs": [],
   "source": [
    "episodedata, s_dim, a_dim = get_episodedata(env, 0.99)\n",
    "sads = preprocess_episodedata(episodedata, s_dim, a_dim)\n",
    "sads = torch.from_numpy(sads.astype(np.float32)).clone()"
   ]
  },
  {
   "cell_type": "code",
   "execution_count": 11,
   "id": "9c55f89b",
   "metadata": {},
   "outputs": [],
   "source": [
    "class VI(torch.nn.Module):\n",
    "    def __init__(self, s_dim, a_dim, z_dim):\n",
    "        super(VI, self).__init__()\n",
    "        self.s_dim = s_dim\n",
    "        self.a_dim = a_dim\n",
    "        self.z_dim = z_dim\n",
    "        \n",
    "        self.nu = 1e-2\n",
    "        \n",
    "#         self.x_dim = x_dim\n",
    "#         self.z_dim = z_dim\n",
    "#         self.y_dim = y_dim\n",
    "#         self.q_mu = torch.nn.Parameter(torch.zeros(z_dim))\n",
    "#         self.q_logvar = torch.nn.Parameter(torch.zeros(z_dim))\n",
    "#         self.q_mu_test = torch.nn.Parameter(torch.zeros(z_dim))\n",
    "#         self.q_logvar_test = torch.nn.Parameter(torch.zeros(z_dim))\n",
    "        self.prior_mu = torch.nn.Parameter(torch.zeros(z_dim))\n",
    "        self.prior_logvar = torch.nn.Parameter(torch.zeros(z_dim))\n",
    "        self.likelihood_logvar = torch.nn.Parameter(torch.zeros(s_dim))\n",
    "        self.transition_net = torch.nn.Sequential(\n",
    "                                        torch.nn.Linear(s_dim+a_dim+z_dim, 64),\n",
    "                                        torch.nn.ReLU(),\n",
    "                                        torch.nn.Linear(64, 64),\n",
    "                                        torch.nn.ReLU(),\n",
    "                                        torch.nn.Linear(64, s_dim),\n",
    "                                    )\n",
    "        self.permutation_variant_net_part1 = torch.nn.Sequential(\n",
    "                                        torch.nn.Linear(s_dim+a_dim+s_dim, 32),\n",
    "                                        torch.nn.ReLU(),\n",
    "                                        torch.nn.Linear(32, 32)\n",
    "                                        )\n",
    "        self.permutation_variant_net_part2 = torch.nn.Sequential(\n",
    "                                        torch.nn.Linear(32, 32),\n",
    "                                        torch.nn.ReLU(),\n",
    "                                        torch.nn.Linear(32, 2*z_dim)\n",
    "                                        )        \n",
    "#         self.train_mode()\n",
    "        \n",
    "    def permutation_invariant_net(self, sads):\n",
    "        h = self.permutation_variant_net_part1(sads)\n",
    "        q_mu_q_logvar = self.permutation_variant_net_part2(h.mean(0))\n",
    "        return q_mu_q_logvar[:self.z_dim], q_mu_q_logvar[self.z_dim:]\n",
    "        \n",
    "        \n",
    "#     def train_mode(self):\n",
    "#         self.q_mu.requires_grad=True\n",
    "#         self.q_logvar.requires_grad=True\n",
    "#         self.prior_mu.requires_grad=False\n",
    "#         self.prior_logvar.requires_grad=True\n",
    "#         self.likelihood_logvar.requires_grad=True\n",
    "#         for param in self.lvr.parameters():\n",
    "#             param.requires_grad = True\n",
    "# #         self.q_mu_test.requires_grad=False\n",
    "# #         self.q_logvar_test.requires_grad=False\n",
    "\n",
    "# #     def test_mode(self):\n",
    "# #         self.q_mu.requires_grad=False\n",
    "# #         self.q_logvar.requires_grad=False\n",
    "# #         self.prior_mu.requires_grad=False\n",
    "# #         self.prior_logvar.requires_grad=False\n",
    "# #         self.likelihood_logvar.requires_grad=False\n",
    "# #         for param in self.lvr.parameters():\n",
    "# #             param.requires_grad = False\n",
    "# #         self.q_mu_test.requires_grad=True\n",
    "# #         self.q_logvar_test.requires_grad=True            \n",
    "    \n",
    "    def gaussian_likelihood_loss(self, y, mu, logvar):\n",
    "        return 0.5 * torch.sum(((y-mu)**2) * torch.exp(-logvar) + logvar)\n",
    "        # 分散行列Varが対角成分var_iの対角行列の場合には、log(det|Var|) = log(prod_i var_i) = sum_i log(var_i) \n",
    "    \n",
    "    def kld(self, mu1, logvar1, mu2, logvar2):\n",
    "        # kld(p1|p2) = E_{z~p1}[ log p1(z) - log p2(z) ]\n",
    "        tmp1 = 0.5 * (logvar2 - logvar1) # log (sigma2/sigma1)\n",
    "        tmp2 = 0.5 * (torch.exp(logvar1)+(mu1-mu2)**2) / torch.exp(logvar2) # (sigma1^2+(mu1-mu2)^2)/(2*sigma2^2)\n",
    "        return torch.mean(tmp1 + tmp2)\n",
    "\n",
    "    def compute_loss(self, sads):\n",
    "        q_mu, q_logvar = self.permutation_invariant_net(sads)\n",
    "\n",
    "        # reparametrization trick\n",
    "        eps = torch.randn_like(q_logvar)\n",
    "        std = torch.exp(0.5 * q_logvar)\n",
    "        z = (eps*std+q_mu) * torch.ones(sads.shape[0],self.z_dim)\n",
    "        saz = torch.cat((sads[:,:(self.s_dim+self.a_dim)],z),dim=-1)\n",
    "        ds_pred = self.transition_net(saz)\n",
    "        ds = sads[:,-self.s_dim:]\n",
    "        \n",
    "        loss = 0\n",
    "        loss += self.gaussian_likelihood_loss(ds, ds_pred, self.likelihood_logvar) # approx of E_{z~q}[ - log p(y|x,z) ]\n",
    "        loss += self.nu * self.kld(q_mu, q_logvar, self.prior_mu, self.prior_logvar) # nu * E_{z~q}[ log q(z) - log p(z) ]\n",
    "        return loss\n"
   ]
  },
  {
   "cell_type": "code",
   "execution_count": 12,
   "id": "23fcf05f",
   "metadata": {},
   "outputs": [],
   "source": [
    "net = VI(3,1,2)"
   ]
  },
  {
   "cell_type": "code",
   "execution_count": 13,
   "id": "fd177106",
   "metadata": {},
   "outputs": [],
   "source": []
  },
  {
   "cell_type": "code",
   "execution_count": null,
   "id": "654e7a2f",
   "metadata": {},
   "outputs": [],
   "source": []
  }
 ],
 "metadata": {
  "kernelspec": {
   "display_name": "Python 3 (ipykernel)",
   "language": "python",
   "name": "python3"
  },
  "language_info": {
   "codemirror_mode": {
    "name": "ipython",
    "version": 3
   },
   "file_extension": ".py",
   "mimetype": "text/x-python",
   "name": "python",
   "nbconvert_exporter": "python",
   "pygments_lexer": "ipython3",
   "version": "3.7.0"
  }
 },
 "nbformat": 4,
 "nbformat_minor": 5
}
