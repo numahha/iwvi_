{
 "cells": [
  {
   "cell_type": "code",
   "execution_count": 1,
   "id": "bdec0e85",
   "metadata": {},
   "outputs": [
    {
     "name": "stdout",
     "output_type": "stream",
     "text": [
      "2 1\n"
     ]
    },
    {
     "name": "stderr",
     "output_type": "stream",
     "text": [
      "C:\\Users\\toru.hishinuma\\anaconda3\\envs\\note\\lib\\site-packages\\gym\\spaces\\box.py:84: UserWarning: \u001b[33mWARN: Box bound precision lowered by casting to float32\u001b[0m\n",
      "  logger.warn(f\"Box bound precision lowered by casting to {self.dtype}\")\n"
     ]
    }
   ],
   "source": [
    "import gym\n",
    "import custom_gym\n",
    "import numpy as np\n",
    "import torch\n",
    "\n",
    "env = gym.make('CustomPendulum-v0')\n",
    "s_dim = env.reset().shape[0]\n",
    "a_dim = env.action_space.sample().shape[0]\n",
    "print(s_dim,a_dim)"
   ]
  },
  {
   "cell_type": "code",
   "execution_count": 2,
   "id": "74a553b1",
   "metadata": {},
   "outputs": [
    {
     "name": "stdout",
     "output_type": "stream",
     "text": [
      "torch.Size([100, 200, 6])\n"
     ]
    }
   ],
   "source": [
    "offline_data = np.load('np_offline_data.npy')\n",
    "offline_data = torch.from_numpy(offline_data.astype(np.float32))\n",
    "print(offline_data.shape)"
   ]
  },
  {
   "cell_type": "code",
   "execution_count": 3,
   "id": "5e858140",
   "metadata": {},
   "outputs": [],
   "source": [
    "x_dim = s_dim+a_dim\n",
    "y_dim = s_dim\n",
    "z_dim = 2\n",
    "g_dim = 3\n",
    "#f_phi\n"
   ]
  },
  {
   "cell_type": "code",
   "execution_count": 4,
   "id": "34fadcea",
   "metadata": {},
   "outputs": [
    {
     "name": "stdout",
     "output_type": "stream",
     "text": [
      "metatrain_model: iter 0  loss 0.5229929089546204\n",
      "metatrain_model: iter 100  loss 0.3432423770427704\n",
      "metatrain_model: iter 200  loss 0.55168616771698\n",
      "metatrain_model: iter 300  loss 0.18542850017547607\n",
      "metatrain_model: iter 400  loss 0.318093478679657\n",
      "metatrain_model: iter 500  loss -0.04043614864349365\n",
      "metatrain_model: iter 600  loss 0.29036015272140503\n",
      "metatrain_model: iter 700  loss 0.07210621237754822\n",
      "metatrain_model: iter 800  loss 0.03016209602355957\n",
      "metatrain_model: iter 900  loss -0.784005880355835\n",
      "train_enc_belief: iter 0  loss -0.47832798957824707\n",
      "train_initial_belief: iter 0  loss 0.5054639577865601\n"
     ]
    }
   ],
   "source": [
    "from unweighted_vi import unweightedVI\n",
    "    \n",
    "vi = unweightedVI(offline_data, s_dim, a_dim, z_dim, g_dim, env)\n",
    "\n",
    "vi.metatrain_model()\n",
    "vi.train_enc_belief()\n",
    "vi.train_initial_belief()\n"
   ]
  },
  {
   "cell_type": "code",
   "execution_count": 5,
   "id": "e9024391",
   "metadata": {},
   "outputs": [
    {
     "name": "stdout",
     "output_type": "stream",
     "text": [
      "torch.Size([200, 14])\n"
     ]
    }
   ],
   "source": [
    "print(vi.get_bamdpdata_from_mdpdata(offline_data[0]).shape)"
   ]
  },
  {
   "cell_type": "code",
   "execution_count": 6,
   "id": "9bd5ccf1",
   "metadata": {},
   "outputs": [
    {
     "name": "stdout",
     "output_type": "stream",
     "text": [
      "[ 1.60619494 -0.79699592]\n"
     ]
    }
   ],
   "source": [
    "print(vi.env_reset())"
   ]
  },
  {
   "cell_type": "code",
   "execution_count": 7,
   "id": "d82f1fe1",
   "metadata": {},
   "outputs": [
    {
     "name": "stdout",
     "output_type": "stream",
     "text": [
      "(array([ 2.01541021, -1.23809226]), array([2.646216], dtype=float32), False, {})\n"
     ]
    }
   ],
   "source": [
    "a = env.action_space.sample()\n",
    "print(vi.env_step(a))"
   ]
  },
  {
   "cell_type": "code",
   "execution_count": null,
   "id": "37349cb0",
   "metadata": {},
   "outputs": [],
   "source": []
  },
  {
   "cell_type": "code",
   "execution_count": null,
   "id": "d23d90a8",
   "metadata": {},
   "outputs": [],
   "source": []
  }
 ],
 "metadata": {
  "kernelspec": {
   "display_name": "Python 3 (ipykernel)",
   "language": "python",
   "name": "python3"
  },
  "language_info": {
   "codemirror_mode": {
    "name": "ipython",
    "version": 3
   },
   "file_extension": ".py",
   "mimetype": "text/x-python",
   "name": "python",
   "nbconvert_exporter": "python",
   "pygments_lexer": "ipython3",
   "version": "3.7.0"
  }
 },
 "nbformat": 4,
 "nbformat_minor": 5
}
