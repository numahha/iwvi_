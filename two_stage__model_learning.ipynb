{
 "cells": [
  {
   "cell_type": "code",
   "execution_count": 1,
   "id": "bdec0e85",
   "metadata": {},
   "outputs": [
    {
     "name": "stdout",
     "output_type": "stream",
     "text": [
      "2 1\n"
     ]
    },
    {
     "name": "stderr",
     "output_type": "stream",
     "text": [
      "C:\\Users\\toru.hishinuma\\anaconda3\\envs\\note\\lib\\site-packages\\gym\\spaces\\box.py:84: UserWarning: \u001b[33mWARN: Box bound precision lowered by casting to float32\u001b[0m\n",
      "  logger.warn(f\"Box bound precision lowered by casting to {self.dtype}\")\n"
     ]
    }
   ],
   "source": [
    "import gym\n",
    "import custom_gym\n",
    "import numpy as np\n",
    "import torch\n",
    "\n",
    "env = gym.make('CustomPendulum-v0')\n",
    "s_dim = env.reset().shape[0]\n",
    "a_dim = env.action_space.sample().shape[0]\n",
    "print(s_dim,a_dim)"
   ]
  },
  {
   "cell_type": "code",
   "execution_count": 2,
   "id": "74a553b1",
   "metadata": {},
   "outputs": [
    {
     "name": "stdout",
     "output_type": "stream",
     "text": [
      "torch.Size([100, 200, 6])\n"
     ]
    }
   ],
   "source": [
    "offline_data = np.load('np_offline_data.npy')\n",
    "offline_data = torch.from_numpy(offline_data.astype(np.float32))\n",
    "print(offline_data.shape)"
   ]
  },
  {
   "cell_type": "code",
   "execution_count": 3,
   "id": "5e858140",
   "metadata": {},
   "outputs": [],
   "source": [
    "x_dim = s_dim+a_dim\n",
    "y_dim = s_dim\n",
    "z_dim = 2\n",
    "g_dim = 3\n",
    "#f_phi\n"
   ]
  },
  {
   "cell_type": "code",
   "execution_count": 4,
   "id": "34fadcea",
   "metadata": {},
   "outputs": [
    {
     "name": "stdout",
     "output_type": "stream",
     "text": [
      "metatrain_model: iter 0  loss 0.45504575967788696\n",
      "metatrain_model: iter 100  loss 0.3987862467765808\n",
      "metatrain_model: iter 200  loss 0.28063488006591797\n",
      "metatrain_model: iter 300  loss 0.47929176688194275\n",
      "metatrain_model: iter 400  loss 0.3490617871284485\n",
      "metatrain_model: iter 500  loss 0.13450288772583008\n",
      "metatrain_model: iter 600  loss -0.09667187929153442\n",
      "metatrain_model: iter 700  loss -0.26905912160873413\n",
      "metatrain_model: iter 800  loss -0.6102564930915833\n",
      "metatrain_model: iter 900  loss -0.806576132774353\n",
      "train_enc_belief: iter 0  loss -0.7729616165161133\n",
      "train_initial_belief: iter 0  loss 0.5152599811553955\n"
     ]
    }
   ],
   "source": [
    "from uwvi import unweightedVI\n",
    "    \n",
    "vi = unweightedVI(offline_data, s_dim, a_dim, z_dim, g_dim, env)\n",
    "\n",
    "vi.metatrain_model()\n",
    "vi.train_enc_belief()\n",
    "vi.train_initial_belief()\n"
   ]
  },
  {
   "cell_type": "code",
   "execution_count": 5,
   "id": "e9024391",
   "metadata": {},
   "outputs": [
    {
     "name": "stdout",
     "output_type": "stream",
     "text": [
      "torch.Size([200, 14])\n"
     ]
    }
   ],
   "source": [
    "print(vi.get_bamdpdata_from_mdpdata(offline_data[0]).shape)"
   ]
  },
  {
   "cell_type": "code",
   "execution_count": 6,
   "id": "9bd5ccf1",
   "metadata": {},
   "outputs": [
    {
     "name": "stdout",
     "output_type": "stream",
     "text": [
      "[ 1.65242144  0.20947694  0.00991471 -0.00951187 -0.00981511 -0.00978375]\n"
     ]
    }
   ],
   "source": [
    "print(vi.env_reset())"
   ]
  },
  {
   "cell_type": "code",
   "execution_count": 7,
   "id": "d82f1fe1",
   "metadata": {},
   "outputs": [
    {
     "name": "stdout",
     "output_type": "stream",
     "text": [
      "(array([ 1.65162333,  0.438791  , -0.11757018, -0.12151653,  0.05849907,\n",
      "       -0.0217806 ]), -2.7368221, False, {})\n"
     ]
    }
   ],
   "source": [
    "a = env.action_space.sample()\n",
    "print(vi.env_step(a))"
   ]
  },
  {
   "cell_type": "code",
   "execution_count": null,
   "id": "37349cb0",
   "metadata": {},
   "outputs": [],
   "source": []
  },
  {
   "cell_type": "code",
   "execution_count": null,
   "id": "d23d90a8",
   "metadata": {},
   "outputs": [],
   "source": []
  }
 ],
 "metadata": {
  "kernelspec": {
   "display_name": "Python 3 (ipykernel)",
   "language": "python",
   "name": "python3"
  },
  "language_info": {
   "codemirror_mode": {
    "name": "ipython",
    "version": 3
   },
   "file_extension": ".py",
   "mimetype": "text/x-python",
   "name": "python",
   "nbconvert_exporter": "python",
   "pygments_lexer": "ipython3",
   "version": "3.7.0"
  }
 },
 "nbformat": 4,
 "nbformat_minor": 5
}
